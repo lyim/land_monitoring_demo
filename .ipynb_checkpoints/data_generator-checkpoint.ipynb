{
 "cells": [
  {
   "cell_type": "code",
   "execution_count": 8,
   "id": "e24c9616-1cd6-482c-9270-f630382b3986",
   "metadata": {},
   "outputs": [],
   "source": [
    "import random\n",
    "from datetime import datetime\n",
    "from pymongo import MongoClient, GEO2D\n",
    "from pymongo import MongoClient, GEOSPHERE"
   ]
  },
  {
   "cell_type": "code",
   "execution_count": 14,
   "id": "ec603e96-acce-49a2-8f3c-02b41a72e2b4",
   "metadata": {},
   "outputs": [],
   "source": [
    "client = MongoClient(\"mongodb://localhost:27017/\")\n",
    "db = client[\"geo_monitoring\"]\n",
    "collection = db[\"displacement_data\"]"
   ]
  },
  {
   "cell_type": "code",
   "execution_count": 15,
   "id": "9a4af226-4c45-4503-ab6e-34d736ef28c7",
   "metadata": {},
   "outputs": [
    {
     "data": {
      "text/plain": [
       "'location_2dsphere'"
      ]
     },
     "execution_count": 15,
     "metadata": {},
     "output_type": "execute_result"
    }
   ],
   "source": [
    "# collection.create_index([(\"location\", GEO2D)])\n",
    "collection.create_index([(\"location\", GEOSPHERE)])"
   ]
  },
  {
   "cell_type": "code",
   "execution_count": 28,
   "id": "f283d2dc-dcb6-41f1-a22a-7cee8e8f1d10",
   "metadata": {},
   "outputs": [],
   "source": [
    "def generate_random_point():\n",
    "    # 北京附近的地理范围\n",
    "    lon = random.uniform(116.3, 116.5)\n",
    "    lat = random.uniform(39.8, 40.0)\n",
    "    hei = random.uniform(50, 100)\n",
    "    # return {\"type\": \"Point\", \"coordinates\": [lon, lat]}\n",
    "    return [lon, lat]\n",
    "    # return [lon, lat, hei]"
   ]
  },
  {
   "cell_type": "code",
   "execution_count": 29,
   "id": "60f36f7a-31e2-4a23-895a-4227205e1173",
   "metadata": {},
   "outputs": [],
   "source": [
    "def generate_displacement_record():\n",
    "    return {\n",
    "        \"timestamp\": datetime.utcnow(),\n",
    "        \"sensor_id\": f\"radar-{random.randint(1, 5)}\",\n",
    "        \"location\": generate_random_point(),\n",
    "        \"displacement\": {\n",
    "            \"x\": round(random.uniform(-1.0, 1.0), 3),\n",
    "            \"y\": round(random.uniform(-1.0, 1.0), 3),\n",
    "            \"z\": round(random.uniform(-1.0, 1.0), 3),\n",
    "        }\n",
    "    }"
   ]
  },
  {
   "cell_type": "code",
   "execution_count": 31,
   "id": "665d590d-ef88-4687-92fc-f4f43541d89c",
   "metadata": {},
   "outputs": [
    {
     "name": "stdout",
     "output_type": "stream",
     "text": [
      "✅ 插入完成\n"
     ]
    },
    {
     "name": "stderr",
     "output_type": "stream",
     "text": [
      "C:\\Users\\Julie\\AppData\\Local\\Temp\\ipykernel_20244\\2357340424.py:3: DeprecationWarning: datetime.datetime.utcnow() is deprecated and scheduled for removal in a future version. Use timezone-aware objects to represent datetimes in UTC: datetime.datetime.now(datetime.UTC).\n",
      "  \"timestamp\": datetime.utcnow(),\n"
     ]
    }
   ],
   "source": [
    "if __name__ == \"__main__\":\n",
    "    for _ in range(200):  # 插入 20 条记录\n",
    "        record = generate_displacement_record()\n",
    "        collection.insert_one(record)\n",
    "    print(\"✅ 插入完成\")"
   ]
  },
  {
   "cell_type": "code",
   "execution_count": null,
   "id": "68d71d51-7575-4221-aed8-be30caff4d85",
   "metadata": {},
   "outputs": [],
   "source": []
  }
 ],
 "metadata": {
  "kernelspec": {
   "display_name": "Python 3 (ipykernel)",
   "language": "python",
   "name": "python3"
  },
  "language_info": {
   "codemirror_mode": {
    "name": "ipython",
    "version": 3
   },
   "file_extension": ".py",
   "mimetype": "text/x-python",
   "name": "python",
   "nbconvert_exporter": "python",
   "pygments_lexer": "ipython3",
   "version": "3.12.4"
  }
 },
 "nbformat": 4,
 "nbformat_minor": 5
}
